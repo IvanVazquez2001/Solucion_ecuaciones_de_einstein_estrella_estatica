{
 "cells": [
  {
   "cell_type": "markdown",
   "id": "525c5de4",
   "metadata": {},
   "source": [
    "# Solucion de las ecuaciones de Einstein para una estrella estática y simétrica."
   ]
  },
  {
   "cell_type": "markdown",
   "id": "fbd7d88c",
   "metadata": {},
   "source": [
    "## Vázquez Hernández Carlos Iván"
   ]
  },
  {
   "cell_type": "markdown",
   "id": "3917ca63",
   "metadata": {},
   "source": [
    "## Elemento de línea y métrica"
   ]
  },
  {
   "cell_type": "markdown",
   "id": "83bf3a81-96cd-4d05-8056-624f7dc26b94",
   "metadata": {},
   "source": [
    "El elemento de línea que vamos a utilizar es\n",
    "\\begin{equation}\n",
    "    ds^2=-n(r)dt^2+m(r)dr^2+r^2d\\Omega^2=-n(r)dt^2+m(r)dr^2+r^2d\\theta^2+r^2sin^2(\\theta)d\\phi^2\n",
    "\\end{equation}"
   ]
  },
  {
   "cell_type": "markdown",
   "id": "5fddada0-cbc9-4ed9-8d90-d292709bd7f9",
   "metadata": {},
   "source": [
    "Por lo tanto el tensor métrico es:\n",
    "\\begin{equation}\n",
    "    g_{\\mu\\nu}=\n",
    "    \\begin{pmatrix}\n",
    "        -n(r) & 0 & 0 & 0\\\\\n",
    "        0 & m(r) & 0 & 0\\\\\n",
    "        0 & 0 & r^2 & 0\\\\\n",
    "        0 & 0 & 0 & r^2sin^2(\\theta)\n",
    "    \\end{pmatrix}\n",
    "\\end{equation}\n",
    "\\begin{equation}\n",
    "    g^{\\mu\\nu}=\n",
    "    \\begin{pmatrix}\n",
    "        -\\frac{1}{n(r)} & 0 & 0 & 0\\\\\n",
    "        0 & \\frac{1}{m(r)} & 0 & 0\\\\\n",
    "        0 & 0 & \\frac{1}{r^2} & 0\\\\\n",
    "        0 & 0 & 0 & \\frac{1}{r^2sin^2(\\theta)}\n",
    "    \\end{pmatrix}\n",
    "\\end{equation}"
   ]
  },
  {
   "cell_type": "markdown",
   "id": "129dfc7a-2d0f-4c0a-9f6f-bdd53d85fe8d",
   "metadata": {},
   "source": [
    "Para un fluido perfecto vamos a tomar el tensor de energía-momento como $T_{\\mu\\nu}=(\\rho+P)U_{\\mu}U_{\\nu}+Pg_{\\mu\\nu}$"
   ]
  },
  {
   "cell_type": "markdown",
   "id": "940d5fd9-a6ae-492e-af0d-a4e97072c7b3",
   "metadata": {},
   "source": [
    "Para la solución de estas ecuaciones vamos a considerar a la estrella con simetrías esféricas y estática por lo que los elemtnos espaciales de la cuadri velocidad son cero $U_r=U_{\\theta}=U_{\\phi}=0$y solamente nos quedamos con el elemento temporal.\n",
    "\n",
    "Los elementos espaciales del tensor energía-momento son:\n",
    "\\begin{align}\n",
    "    T_{rr}&=Pm(r)\\\\\n",
    "    T_{\\theta\\theta}&=Pr^2\\\\\n",
    "    T_{\\phi\\phi}&=Pr^2sin^2(\\theta)\n",
    "\\end{align}\n",
    "Y el elemento $T_{00}$ es:\n",
    "\\begin{equation}\n",
    "    T_{00}=(\\rho+P)U_{0}^2-Pn(r)\n",
    "\\end{equation}\n",
    "Recordando como es el producto interno en la notacion tensorial podemos obtener el elemento $U_0^2$\n",
    "\\begin{align}\n",
    "    U\\cdot U&=g^{\\mu\\nu}U_{\\mu}U_{\\nu}\\\\\n",
    "            &=g^{00}U_0^2\\\\\n",
    "            &=-\\frac{1}{n(r)}U_0^2=-1\n",
    "\\end{align}\n",
    "\\begin{equation}\n",
    "    \\Rightarrow U_0^2=n(r)\n",
    "\\end{equation}"
   ]
  },
  {
   "cell_type": "markdown",
   "id": "6476fa4c-e27f-429b-844f-deab977d0771",
   "metadata": {},
   "source": [
    "Y por lo tanto $T_{00}=(\\rho+P)n(r)-Pn(r)=\\rho n(r)$"
   ]
  },
  {
   "cell_type": "markdown",
   "id": "c58aa11c-228b-40d4-8ff8-3b73b1d13e8f",
   "metadata": {},
   "source": [
    "Las ecuaciones de campo de Einstein para la estrella son:\n",
    "\\begin{align}\n",
    "    R_{00}-\\frac{1}{2}g_{00}R&=8\\pi T_{00}\\\\\n",
    "    R_{rr}-\\frac{1}{2}g_{rr}R&=8\\pi T_{rr}\\\\\n",
    "    R_{\\theta\\theta}-\\frac{1}{2}g_{\\theta\\theta}R&=8\\pi T_{\\theta\\theta}\\\\\n",
    "    R_{\\phi\\phi}-\\frac{1}{2}g_{\\phi\\phi}R&=8\\pi T_{\\phi\\phi}\\\\\n",
    "\\end{align}"
   ]
  },
  {
   "cell_type": "markdown",
   "id": "f37242a9-b119-44bd-8b32-78aacfedeeaf",
   "metadata": {},
   "source": [
    "De la primera ecuación de Einstein, tenemos la siguiente ecuación diferencial\n",
    "\\begin{equation}\n",
    "    m'(r)=m(r)\\frac{8\\pi\\rho r^2 m(r)+1-m(r)}{r}\n",
    "\\end{equation}"
   ]
  },
  {
   "cell_type": "markdown",
   "id": "a2eb1015-f533-4ebb-9295-831534dfd58c",
   "metadata": {},
   "source": [
    "Del elemento $R_{rr}$ tenemos la ecuación\n",
    "\\begin{equation}\n",
    "    \\left(\\frac{1}{r}+8P\\pi r\\right)m(r)=\\frac{1}{r}+\\frac{n'(r)}{n(r)}\n",
    "\\end{equation}"
   ]
  },
  {
   "cell_type": "markdown",
   "id": "4ce58618-a52c-4137-8cd4-d1c14a7c7df0",
   "metadata": {},
   "source": [
    "Y del elemento $R_{\\theta\\theta}$ tenemos la ecuación\n",
    "\\begin{equation}\n",
    "    32P\\pi rm(r)n(r)+\\frac{rn'(r)^2}{n(r)}+\\frac{m'(r)(2n(r)+rn'(r)}{m}-2(n'(r)+rn''(r))=0\n",
    "\\end{equation}"
   ]
  },
  {
   "cell_type": "markdown",
   "id": "20f79416-75a8-4abf-a5ed-d86a7827f4aa",
   "metadata": {},
   "source": [
    "Sustituyendo la ecuación de la componente $R_{rr}$ en la ecuación de la componente $R_{\\theta\\theta}$ y haciendo álgebra, tenemos la ecuación\n",
    "\\begin{equation}\n",
    "    n''(r) = (32\\pi rPm(r)^2n(r)^2+2n(r)^2m'(r)-2m(r)n(r)n'(r)+rn(r)m'(r)n'(r)+ rm(r)n'(r)^2)\\frac{1}{2rm(r)n(r)}\n",
    "\\end{equation}"
   ]
  },
  {
   "cell_type": "markdown",
   "id": "1f91c381-7e4c-4697-b17d-1f38a74d078f",
   "metadata": {},
   "source": [
    "La tercer ecuación para resolver el sistema es la ecuación TOV (Tolman-Oppenheimer-Volkoff) la cual establece la estructura de un cuerpo esfericamente simétrico que se encuentra en un equilibrio gravitatorio.\n",
    "Esta ecuación la obtenemos de la conservacion del tensor de energia momento, $\\nabla_{\\mu}T^{\\mu\\nu}=0$\n",
    "\\begin{align}\n",
    "    \\nabla_{\\mu}T^{\\mu\\nu}=((\\rho+P)U^{\\mu}U^{\\nu}+Pg^{\\mu\\nu})_{;\\nu}=0\n",
    "\\end{align}"
   ]
  },
  {
   "cell_type": "markdown",
   "id": "eeb922c0-1255-4c25-be0b-f91fa27b62e3",
   "metadata": {},
   "source": [
    "Desarrollando esta ecuación y debido a las simetrias que consideramos y tomando como único índice $\\mu=r$.\n",
    "\\begin{equation}\n",
    "    \\nabla_{r}T^{r\\nu}=(\\rho+P)_{,\\nu}U^{r}U^{\\nu}+(\\rho+P)(U^{r}U^{\\nu})_{;\\nu}+P_{,\\nu}g^{r\\nu}+Pg^{r\\nu}_{;\\nu}\n",
    "\\end{equation}"
   ]
  },
  {
   "cell_type": "markdown",
   "id": "2d281a65-8699-4040-b9af-d1b8dab1d194",
   "metadata": {},
   "source": [
    "Podemos eliminar varios terminos\n",
    "\\begin{align}\n",
    "    (\\rho+P)_{,\\nu}U^{r}U^{\\nu}&=0\\\\\n",
    "    (\\rho+P)U^{r}(U^{\\nu})_{;\\nu}&=0\\\\\n",
    "    Pg^{r\\nu}_{;\\nu}&=0\n",
    "\\end{align}"
   ]
  },
  {
   "cell_type": "markdown",
   "id": "7fbdce5b-23e2-443d-b05d-c4c970ff0332",
   "metadata": {},
   "source": [
    "Los terminos sobrevivientes hacen la ecuación\n",
    "\\begin{equation}\n",
    "    (\\rho+P)U^{r}_{;\\nu}U^{\\nu}+P_{,\\nu}g^{r\\nu}=0\n",
    "\\end{equation}\n",
    "El primer término es diferente de cero solo caundo $\\nu=t$ y el segundo término es diferetende cero solo cuando $\\nu=r$"
   ]
  },
  {
   "cell_type": "markdown",
   "id": "664123e9-2b9b-4349-9608-3f7d4b467742",
   "metadata": {},
   "source": [
    "La derivada covariante de $U^r$ es: $(U^r)_{;t}=\\partial_{t}U^r+\\Gamma^r_{ts}U^s=\\Gamma^r_{ts}U^s=\\Gamma^r_{tt}U^t=U^t\\frac{n'(r)}{2m(r)}$"
   ]
  },
  {
   "cell_type": "markdown",
   "id": "5dd9772a-62f8-4319-924b-d09968fc2505",
   "metadata": {},
   "source": [
    "Y la ecuación final es\n",
    "\\begin{equation}\n",
    "    (\\rho+P)(U^t)^2\\frac{n'(r)}{2m(r)}+\\frac{dP}{dr}\\frac{1}{m(r)}=0\n",
    "\\end{equation}"
   ]
  },
  {
   "cell_type": "markdown",
   "id": "8eaf3194-3c71-465e-9227-6aded3659059",
   "metadata": {},
   "source": [
    "La versión contravariante del elemento temporal de la cuadri velocidad es $(U^t)^2=g^{tt}g^{tt}U_tU_t=\\frac{1}{n(r)^2}U_t^2=\\frac{1}{n(r)}$"
   ]
  },
  {
   "cell_type": "markdown",
   "id": "0235f181-2474-4e9e-8217-29b8f8e93566",
   "metadata": {},
   "source": [
    "y tenemos la ecuación de Tolman-Oppenheimer-Volkoff\n",
    "\\begin{equation}\n",
    "    \\frac{dP}{dr}=-(\\rho+P)\\frac{n'(r)}{2n(r)}\n",
    "\\end{equation}"
   ]
  },
  {
   "cell_type": "markdown",
   "id": "67d61ac3-fad1-4b85-b4c0-cd51a4e6a1fc",
   "metadata": {},
   "source": [
    "# El método runge-kutta"
   ]
  },
  {
   "cell_type": "markdown",
   "id": "75299f68-b3e7-4dbc-a9e9-70383948dfe3",
   "metadata": {},
   "source": [
    "Para una función de la forma $\\frac{dx}{dr}=f(x,r)$ el método de runge kutta nos da una manera en la que podemos obetener los valores de la funcion usando una iteración."
   ]
  },
  {
   "cell_type": "markdown",
   "id": "55ef816f-2052-4f23-83ba-b1cbd7d96594",
   "metadata": {},
   "source": [
    "De acuerdo al método de runge-kutta la ecuación es \n",
    "\\begin{equation}\n",
    "    x(r+h)=x(r)+h\\Phi(x_i,y_i,h)\n",
    "\\end{equation}\n",
    "Con $\\Phi=a_1k_1+a_2k_2+\\dots+a_nk_n$ conocida como la función incremento.\n",
    "Para el metodo de cuarto orden solo utilizaremos hasta $n=4$.\n",
    "por lo que las $k$ se verian asi\n",
    "\\begin{align}\n",
    "    k_1&=hf(x,r)\\\\\n",
    "    k_2&=hf\\left(x+\\frac{1}{2}k_1,r+\\frac{1}{2}h\\right)\\\\\n",
    "    k_3&=hf\\left(x+\\frac{1}{2}k_2,r+\\frac{1}{2}h\\right)\\\\\n",
    "    k_4&=hf\\left(x+k_3,r+h\\right)\n",
    "\\end{align}\n",
    "\\begin{equation}\n",
    "   \\Rightarrow x(t+h)=x(t)+\\frac{1}{6}(k_1+2k_2+2k_3+k_4)\n",
    "\\end{equation}"
   ]
  },
  {
   "cell_type": "markdown",
   "id": "3900ad49-3a37-4f1f-9003-d15b457158fa",
   "metadata": {},
   "source": [
    "Para la primera ecuación siendo $\\frac{dm(r)}{dr}=m(r)\\frac{8\\pi\\rho r^2 m(r)+1-m(r)}{r}$ tenemos que la solución sera:\n",
    "\\begin{equation}\n",
    "    m(r+h)=m(r)+\\frac{1}{6}(k_1+2k_2+2k_3+k_4)\n",
    "\\end{equation}\n",
    "Y la solución de la ecuación TOV es:\n",
    "\\begin{align}\n",
    "    P(r+h)=P(r)+\\frac{1}{6}(k_1+2k_2+2k_3+k_4)\n",
    "\\end{align}"
   ]
  },
  {
   "cell_type": "markdown",
   "id": "7490201d-3156-44a1-ad05-b1f166260672",
   "metadata": {},
   "source": [
    "Para la segunda ecuación tenemos una derivada de segundo orden por lo que tenemos que hacer un cambio de variable para tener dos ecuaciones de primer orden.\n",
    "sea $\\omega(r)=n'(r)$ y $\\omega'(r)=n''(r)$ entonces tenemos dos ecuaciones de la forma\n",
    "\n",
    "\\begin{align}\n",
    "    n'(r)&=\\omega(r)\\\\\n",
    "    \\omega '(r)&=(32\\pi rPm(r)^2n(r)^2+2n(r)^2m'(r)-2m(r)n(r)n'(r)+rn(r)m'(r)n'(r)+ rm(r)n'(r)^2)\\frac{1}{2rm(r)n(r)}\n",
    "\\end{align}"
   ]
  },
  {
   "cell_type": "markdown",
   "id": "64a35e85-fcea-4704-b241-025a55dfa4da",
   "metadata": {},
   "source": [
    "Para este caso el metodo de runge-kutta al ser las dos ecuaciones dependientes entre ellas, tendremos que iterar las funciones incremento de cada una, sean $k$ los elementos del incremento de la función $n'(r)=w(r)$ y sean $l$ los elementos de incremento de la función $w'(r)$ y por simplicidad, llamemos $n'(r)=f_1(n,w,r)$ y $w'(r)=f_2(n,w,r)$\n",
    "\\begin{align}\n",
    "    k_1&=hf_1\\left(n(r),w(r),r\\right)\\\\\n",
    "    l_1&=hf_2\\left(n(r),w(r),r\\right)\\\\\n",
    "    k_2&=hf_1\\left(n(r)+\\frac{k_1}{2},w(r)+\\frac{l_1}{2},r+\\frac{h}{2}\\right)\\\\\n",
    "    l_2&=hf_2\\left(n(r)+\\frac{k_1}{2},w(r)+\\frac{l_1}{2},r+\\frac{h}{2}\\right)\\\\\n",
    "    k_3&=hf_1\\left(n(r)+\\frac{k_2}{2},w(r)+\\frac{l_2}{2},r+\\frac{h}{2}\\right)\\\\\n",
    "    l_3&=hf_2\\left(n(r)+\\frac{k_2}{2},w(r)+\\frac{l_2}{2},r+\\frac{h}{2}\\right)\\\\\n",
    "    k_4&=hf_1\\left(n(r)+k_3,w(r)+l_3,r+h\\right)\\\\\n",
    "    l_4&=hf_2\\left(n(r)+k_3,w(r)+l_3,r+h\\right)\\\\\n",
    "    n(r+h)&=n(r)+\\frac{1}{6}(k_1+2k_2+2k_3+k_4)\\\\\n",
    "    w(r+h)&=w(r)+\\frac{1}{6}(l_1+2l_2+2l_3+l_4)\n",
    "\\end{align}"
   ]
  },
  {
   "cell_type": "markdown",
   "id": "4fd76570-93c5-4469-a436-fdd46041c7b5",
   "metadata": {},
   "source": [
    "## Código"
   ]
  },
  {
   "cell_type": "markdown",
   "id": "b12757c6-6937-499c-81a9-a0948287c777",
   "metadata": {},
   "source": [
    "Empezamos por definir las fuinciones de las ecuaciones encontradas."
   ]
  },
  {
   "cell_type": "code",
   "execution_count": 165,
   "id": "b2d85aa9-6496-4078-b77b-853c48cad8b9",
   "metadata": {},
   "outputs": [],
   "source": [
    "import numpy as np\n",
    "import matplotlib.pyplot as plt\n",
    "\n",
    "###### LAS ECUACIONES OBTENIDAS\n",
    "#### coefiecientes de la funcion incrimento de m(r) y p(r)\n",
    "def RK(f,x,r):\n",
    "    k1=h*f(x,r)\n",
    "    k2=h*f(x+0.5*k1,r+0.5*h)\n",
    "    k3=h*f(x+0.5*k2,r+0.5*h)\n",
    "    k4=h*f(x+k3,r+h)\n",
    "    return (k1+2.0*k2+2.0*k3+k4)/6.0\n",
    "### funcion m´(r)\n",
    "def dM(m,r):\n",
    "    return m*(k*rho*m*r**2+1-m)/r\n",
    "### funcion p´(r)\n",
    "def dP(P,r):\n",
    "    return -(rho+P)*W(n,w,r)/(2.0*n)\n",
    "### funcion w´(r)=n´´(r)\n",
    "def dW(n,w,r):\n",
    "    return (4.0*r*k*P*(m**2.0)*(n**2.0)+2.0*(n**2.0)*(dM(m,r))-2.0*m*n*w+r*n*(dM(m,r))*w+r*m*w**2.0)/(2.0*r*m*n)\n",
    "    \n",
    "### funcion w(r)=n´(r)\n",
    "def W(n,w,r):\n",
    "    return w\n",
    "\n",
    "##### la solucion para n\n",
    "\n",
    "def RK2(f1,f2,n,w,r):\n",
    "    \n",
    "    k1=h*f1(n,w,r)\n",
    "    l1=h*f2(n,w,r)\n",
    "    k2=h*f1(n+0.5*k1,w+0.5*l1,r+0.5*h)\n",
    "    l2=h*f2(n+0.5*k1,w+0.5*l1,r+0.5*h)\n",
    "    k3=h*f1(n+0.5*k2,w+0.5*l2,r+0.5*h)\n",
    "    l3=h*f2(n+0.5*k2,w+0.5*l2,r+0.5*h)\n",
    "    k4=h*f1(n+k3,w+l3,r+h)\n",
    "    l4=h*f2(n+k3,w+l3,r+h)\n",
    "    return (k1+2.0*k2+2.0*k3+k4)/6.0,(l1+2.0*l2+2.0*l3+l4)/6.0"
   ]
  },
  {
   "cell_type": "code",
   "execution_count": 166,
   "id": "c5142fb1-b9ec-43fd-9c52-ed6f644b2eaa",
   "metadata": {},
   "outputs": [],
   "source": [
    "##### Numero de interaciones\n",
    "a=0.0\n",
    "b=.5\n",
    "N=1000\n",
    "h=(b-a)/N\n",
    "#### Valores iniciales\n",
    "k=8*np.pi\n",
    "rho=10\n",
    "P=0.3*rho\n",
    "m=1.0\n",
    "n=0.2857\n",
    "w=0.0\n",
    "radio=np.arange(a,b,h)\n",
    "puntos_m=[]\n",
    "puntos_p=[]\n",
    "puntos_n=[]\n",
    "for r in radio:\n",
    "    if r==0:\n",
    "        puntos_m.append(m)\n",
    "        puntos_p.append(P)\n",
    "        puntos_n.append(n)\n",
    "    else:\n",
    "        m = m+RK(dM,m,r)\n",
    "        n = n+RK2(W,dW,n,w,r)[0]\n",
    "        w = w+RK2(W,dW,n,w,r)[1]\n",
    "        P = P+RK(dP,P,r)\n",
    "        if P<=0:\n",
    "            P=0\n",
    "            rho=0\n",
    "        \n",
    "        puntos_n.append(n)\n",
    "        puntos_m.append(m)\n",
    "        puntos_p.append(P)"
   ]
  },
  {
   "cell_type": "code",
   "execution_count": 167,
   "id": "5d18bc00-139c-4168-9791-884b5a06533f",
   "metadata": {},
   "outputs": [
    {
     "data": {
      "image/png": "[encoded data removed]",
      "text/plain": [
       "<Figure size 640x480 with 1 Axes>"
      ]
     },
     "metadata": {},
     "output_type": "display_data"
    },
    {
     "data": {
      "image/png": "[encoded data removed]",
      "text/plain": [
       "<Figure size 640x480 with 1 Axes>"
      ]
     },
     "metadata": {},
     "output_type": "display_data"
    }
   ],
   "source": [
    "plt.plot(radio,puntos_m,label='m(r)',color='blue')\n",
    "plt.plot(radio,puntos_n,label='n(r)',color='red')\n",
    "plt.plot(radio,np.array(puntos_m)*np.array(puntos_n),label='m(r)n(r)',color='green')\n",
    "plt.xlabel('Radio')\n",
    "plt.legend(loc='upper right')\n",
    "plt.grid(True,linestyle='--')\n",
    "plt.show()\n",
    "plt.plot(radio,puntos_p,label='P(r)',color='crimson')\n",
    "plt.ylabel('P(r)')\n",
    "plt.xlabel('Radio')\n",
    "plt.legend(loc='upper right')\n",
    "plt.grid(True,linestyle='--')\n",
    "plt.show()"
   ]
  }
 ],
 "metadata": {
  "kernelspec": {
   "display_name": "Python 3 (ipykernel)",
   "language": "python",
   "name": "python3"
  },
  "language_info": {
   "codemirror_mode": {
    "name": "ipython",
    "version": 3
   },
   "file_extension": ".py",
   "mimetype": "text/x-python",
   "name": "python",
   "nbconvert_exporter": "python",
   "pygments_lexer": "ipython3",
   "version": "3.11.5"
  }
 },
 "nbformat": 4,
 "nbformat_minor": 5
}
